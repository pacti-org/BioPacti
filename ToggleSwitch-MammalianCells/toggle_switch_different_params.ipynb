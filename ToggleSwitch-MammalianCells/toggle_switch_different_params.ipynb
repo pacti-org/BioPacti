{
 "cells": [
  {
   "cell_type": "code",
   "execution_count": 1,
   "metadata": {},
   "outputs": [],
   "source": [
    "from pacti.contracts import PolyhedralIoContract\n",
    "## CONSTANTS\n",
    "a_i = 0.5\n",
    "d_i = 1\n",
    "a_ip = 10\n",
    "d_ip = 1\n",
    "a_j = 1\n",
    "d_j = 1\n",
    "a_jp = 10\n",
    "d_jp = 1\n",
    "kappa = 1\n",
    "delta = 1\n",
    "\n",
    "# computed constants\n",
    "b_i = a_i / d_i\n",
    "b_ip = a_ip / d_ip\n",
    "b_j = a_j / d_j\n",
    "b_jp = a_jp / d_jp\n",
    "\n",
    "# requirement values first scenario\n",
    "A_i_H = 45\n",
    "A_j_L = 0.02\n",
    "m_i_H = 1\n",
    "m_j_L = 0.00005\n",
    "# requirement values second scenario\n",
    "A_j_H = 90\n",
    "A_i_L = 0.05\n",
    "m_j_H = 0.25\n",
    "m_i_L = 0.0001"
   ]
  },
  {
   "cell_type": "code",
   "execution_count": 2,
   "metadata": {},
   "outputs": [],
   "source": [
    "assert A_j_L/m_j_L - A_i_H/m_i_H >= 0 \n",
    "assert A_i_L/m_i_L - A_j_H/m_j_H >= 0"
   ]
  },
  {
   "cell_type": "code",
   "execution_count": 3,
   "metadata": {},
   "outputs": [
    {
     "name": "stdout",
     "output_type": "stream",
     "text": [
      "InVars: []\n",
      "OutVars:[p_i, p_j, q_i, q_j, gamma_inv]\n",
      "A: [\n",
      "  \n",
      "]\n",
      "G: [\n",
      "  -0.04219 p_i - 0.9494 q_i <= -1\n",
      "  0.002217 p_j + 4.434e-05 q_j <= 5e-05\n",
      "  5e-05 gamma_inv <= 0.02\n",
      "  -0.01093 p_j - 0.9836 q_j <= -0.25\n",
      "  0.00111 p_i + 2.775e-05 q_i <= 0.0001\n",
      "  -0.25 gamma_inv <= -90\n",
      "]\n"
     ]
    }
   ],
   "source": [
    "top_level_sc1 = PolyhedralIoContract.from_strings(\n",
    "    input_vars=[],\n",
    "    output_vars=[\"m_i\", \"m_j\", \"A_i\", \"A_j\"],\n",
    "    assumptions=[],\n",
    "    guarantees=[f\"m_i >= {m_i_H}\", f\"m_j <= {m_j_L}\", f\"A_i >= {A_i_H}\", f\"A_j <= {A_j_L}\"]\n",
    ")\n",
    "\n",
    "monotonicity_component1_sc1 = PolyhedralIoContract.from_strings(\n",
    "    input_vars=[\"p_i\",\"p_j\",\"q_i\",\"q_j\"],\n",
    "    output_vars=[\"m_i\"],\n",
    "    assumptions=[\"q_i >= p_i\"],\n",
    "    # assumptions=[],\n",
    "    guarantees=[f\"{delta}*m_i >= {1/(1 + b_i*A_i_H + b_ip*A_j_L)}*p_i + {A_i_H*b_i/(1 + b_i*A_i_H + b_ip*A_j_L)}*q_i\"]\n",
    ")\n",
    "# RHS above is >= m_i_H\n",
    "\n",
    "monotonicity_component2_sc1 = PolyhedralIoContract.from_strings(\n",
    "    input_vars=[\"p_i\",\"p_j\",\"q_i\",\"q_j\"],\n",
    "    output_vars=[\"m_j\"],\n",
    "    assumptions=[f\"{1 + b_jp*A_i_H} * q_j >= p_j\"],\n",
    "    # assumptions=[\"q_j >= p_j\"],\n",
    "    # assumptions=[],\n",
    "    guarantees=[f\"{delta}*m_j <= {1/(1 + b_j*A_j_L + b_jp*A_i_H)}*p_j + {A_j_L*b_j/(1 + b_j*A_j_L + b_jp*A_i_H)}*q_j\"]\n",
    ")\n",
    "# RHS above is <= m_j_L\n",
    "\n",
    "A_definition_sc1 = PolyhedralIoContract.from_strings(\n",
    "    input_vars=[\"gamma_inv\"],\n",
    "    output_vars=[\"A_i\", \"A_j\"],\n",
    "    assumptions=[],\n",
    "    guarantees=[\n",
    "                f\"{kappa * m_i_H} * gamma_inv <= A_i\",\n",
    "                f\"A_j <= {kappa * m_j_L}  * gamma_inv\"]\n",
    ")\n",
    "\n",
    "# compute the parameters that yield the first set of top-level requirements\n",
    "# test_contract = top_level_sc1.quotient(A_definition_sc1)\n",
    "composed_contract1 = monotonicity_component1_sc1.compose(monotonicity_component2_sc1).compose(A_definition_sc1)\n",
    "parameters_contract_1 = top_level_sc1.quotient(composed_contract1)\n",
    "\n",
    "\n",
    "##################\n",
    "## Now we analyze the second scenario: when m_i < m_i_L and m_j > m_J_H\n",
    "\n",
    "top_level_sc2 = PolyhedralIoContract.from_strings(\n",
    "    input_vars=[],\n",
    "    output_vars=[\"m_i\", \"m_j\", \"A_i\", \"A_j\"],\n",
    "    assumptions=[],\n",
    "    guarantees=[f\"m_j >= {m_j_H}\", f\"m_i <= {m_i_L}\", f\"A_j >= {A_j_H}\", f\"A_i <= {A_i_L}\"]\n",
    "    )\n",
    "\n",
    "monotonicity_component1_sc2 = PolyhedralIoContract.from_strings(\n",
    "    input_vars=[\"p_i\",\"p_j\",\"q_i\",\"q_j\"],\n",
    "    output_vars=[\"m_j\"],\n",
    "    assumptions=[\"q_j >= p_j\"],\n",
    "    # assumptions=[],\n",
    "    guarantees=[f\"{delta}*m_j >= {1/(1 + b_j*A_j_H + b_jp*A_i_L)}*p_j + {A_j_H*b_j/(1 + b_j*A_j_H + b_jp*A_i_L)}*q_j\"]\n",
    ")\n",
    "# RHS above is >= m_j_H\n",
    "\n",
    "monotonicity_component2_sc2 = PolyhedralIoContract.from_strings(\n",
    "    input_vars=[\"p_i\",\"p_j\",\"q_i\",\"q_j\"],\n",
    "    output_vars=[\"m_i\"],\n",
    "    assumptions=[f\"{1 + b_ip*A_j_H} * q_i >= p_i\"],\n",
    "    # assumptions=[\"q_i >= p_i\"],\n",
    "    # assumptions=[],\n",
    "    guarantees=[f\"{delta}*m_i <= {1/(1 + b_i*A_i_L + b_ip*A_j_H)}*p_i + {A_i_L*b_i/(1 + b_i*A_i_L + b_ip*A_j_H)}*q_i\"]\n",
    ")\n",
    "# RHS above is <= m_i_L \n",
    "\n",
    "A_definition_sc2 = PolyhedralIoContract.from_strings(\n",
    "    input_vars=[\"gamma_inv\"],\n",
    "    output_vars=[\"A_i\", \"A_j\"],\n",
    "    assumptions=[],\n",
    "    guarantees=[f\"{kappa * m_j_H} * gamma_inv <= A_j\",\n",
    "                f\"A_i <= {kappa * m_i_L}  * gamma_inv \"]\n",
    ")\n",
    "\n",
    "# compute the parameters that yield the first set of top-level requirements\n",
    "composed_contract2 = monotonicity_component1_sc2.compose(monotonicity_component2_sc2).compose(A_definition_sc2)\n",
    "parameters_contract_2 = top_level_sc2.quotient(composed_contract2)\n",
    "\n",
    "# report the parameter space that yields bistability\n",
    "parameter_contract = parameters_contract_1.merge(parameters_contract_2)\n",
    "print(parameter_contract)"
   ]
  },
  {
   "cell_type": "code",
   "execution_count": 15,
   "metadata": {},
   "outputs": [
    {
     "name": "stdout",
     "output_type": "stream",
     "text": [
      "Gamma has the bounds [0.002499999999999998, 0.002777777777777778]\n"
     ]
    },
    {
     "data": {
      "image/png": "[encoded data removed]",
      "text/plain": [
       "<Figure size 640x480 with 1 Axes>"
      ]
     },
     "metadata": {},
     "output_type": "display_data"
    },
    {
     "data": {
      "image/png": "[encoded data removed]",
      "text/plain": [
       "<Figure size 640x480 with 1 Axes>"
      ]
     },
     "metadata": {},
     "output_type": "display_data"
    }
   ],
   "source": [
    "from pacti.iocontract import Var\n",
    "from pacti.terms.polyhedra import PolyhedralTermList\n",
    "from pacti.utils.plots import plot_guarantees\n",
    "\n",
    "# gamma\n",
    "gamma_bounds = parameter_contract.get_variable_bounds(\"gamma_inv\")\n",
    "print(f\"Gamma has the bounds {[1/e for e in reversed(list(gamma_bounds))]}\")\n",
    "\n",
    "# q_i and p_i\n",
    "contract_i = PolyhedralIoContract(\n",
    "    assumptions=PolyhedralTermList(),\n",
    "    guarantees=parameter_contract.g.get_terms_with_vars([Var('p_i'), Var('q_i')]),\n",
    "    input_vars=[],\n",
    "    output_vars=[Var('p_i'), Var('q_i')]\n",
    "    )\n",
    "\n",
    "# print(contract_i)\n",
    "\n",
    "_ = plot_guarantees(contract=contract_i,x_var=\"p_i\",y_var=\"q_i\",var_values={},\n",
    "                    x_lims=[0,0.2],y_lims=[0,5],show=True)\n",
    "\n",
    "# q_j and p_j\n",
    "contract_j = PolyhedralIoContract(\n",
    "    assumptions=PolyhedralTermList(),\n",
    "    guarantees=parameter_contract.g.get_terms_with_vars([Var('p_j'), Var('q_j')]),\n",
    "    input_vars=[],\n",
    "    output_vars=[Var('p_j'), Var('q_j')]\n",
    "    )\n",
    "\n",
    "# print(contract_j)\n",
    "\n",
    "_ = plot_guarantees(contract=contract_j,x_var=\"p_j\",y_var=\"q_j\",var_values={},\n",
    "                    x_lims=[0,0.02],y_lims=[0,5],show=True)\n"
   ]
  },
  {
   "cell_type": "code",
   "execution_count": 59,
   "metadata": {},
   "outputs": [
    {
     "name": "stdout",
     "output_type": "stream",
     "text": [
      "(None, 0.06384010011122464)\n",
      "(1.0504959955506123, None)\n",
      "(None, 0.017471549233210492)\n",
      "(0.25397253834185324, None)\n"
     ]
    }
   ],
   "source": [
    "p_i_bounds = [item for item in contract_i.get_variable_bounds(\"p_i\") if item]\n",
    "print(contract_i.get_variable_bounds(\"p_i\"))\n",
    "print(contract_i.get_variable_bounds(\"q_i\"))\n",
    "print(contract_j.get_variable_bounds(\"p_j\"))\n",
    "print(contract_j.get_variable_bounds(\"q_j\"))"
   ]
  },
  {
   "cell_type": "code",
   "execution_count": 60,
   "metadata": {},
   "outputs": [],
   "source": [
    "p_is = 0.05\n",
    "q_is = 1.07\n",
    "p_js = 0.02\n",
    "q_js = 0.3\n",
    "gamma_s = 0.0026"
   ]
  },
  {
   "cell_type": "code",
   "execution_count": 64,
   "metadata": {},
   "outputs": [
    {
     "data": {
      "image/png": "[encoded data removed]",
      "text/plain": [
       "<Figure size 640x480 with 1 Axes>"
      ]
     },
     "metadata": {},
     "output_type": "display_data"
    }
   ],
   "source": [
    "import numpy as np\n",
    "import matplotlib.pyplot as plt\n",
    "def plot_nullclines(p_i, p_j, q_i, q_j, gamma):\n",
    "    # Nullclines\n",
    "    A_i = np.linspace(0, 1000, 100)\n",
    "    A_j = np.linspace(0, 1000, 100)\n",
    "    X1, X2 = np.meshgrid(A_i, A_j)\n",
    "    U = ( (kappa/delta) * (p_i + b_i*q_i*X1)) / (1 + b_i*X1 + b_ip*X2) - gamma * X1\n",
    "    V = ( (kappa/delta) * (p_j + b_j*q_j*X2)) / (1 + b_j*X2 + b_jp*X1) - gamma * X2\n",
    "    import matplotlib.lines as mlines \n",
    "\n",
    "    # Plot nullclines\n",
    "    fig, ax = plt.subplots()\n",
    "\n",
    "    # Label the contours\n",
    "    ax.contour(X1, X2, U, levels=[0], colors='r')\n",
    "    ax.contour(X1, X2, V, levels=[0], colors='b')\n",
    "\n",
    "    # Create proxy artists\n",
    "    red_line = mlines.Line2D([], [], color='r', label='dA_i/dt=0')\n",
    "    blue_line = mlines.Line2D([], [], color='b', label='dA_j/dt=0')\n",
    "\n",
    "    # Add the legend manually to the current Axes.\n",
    "    ax.legend(handles=[red_line, blue_line], loc='upper right')\n",
    "\n",
    "    ax.set_xlabel('A_i')\n",
    "    ax.set_ylabel('A_j')\n",
    "    ax.set_title('Nullclines')\n",
    "    # Set xlim and ylim from -10 to 100\n",
    "    ax.set_xlim(-10, 400)\n",
    "    ax.set_ylim(-10, 150)\n",
    "    # plt.show()\n",
    "\n",
    "# Call the function once to display the plot\n",
    "plot_nullclines(p_is, p_js, q_is, q_js, gamma_s)"
   ]
  }
 ],
 "metadata": {
  "kernelspec": {
   "display_name": "base",
   "language": "python",
   "name": "python3"
  },
  "language_info": {
   "codemirror_mode": {
    "name": "ipython",
    "version": 3
   },
   "file_extension": ".py",
   "mimetype": "text/x-python",
   "name": "python",
   "nbconvert_exporter": "python",
   "pygments_lexer": "ipython3",
   "version": "3.11.5"
  }
 },
 "nbformat": 4,
 "nbformat_minor": 2
}
